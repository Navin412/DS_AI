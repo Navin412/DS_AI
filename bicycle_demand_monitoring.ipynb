{
  "cells": [
    {
      "cell_type": "markdown",
      "metadata": {
        "id": "view-in-github",
        "colab_type": "text"
      },
      "source": [
        "<a href=\"https://colab.research.google.com/github/Navin412/DS_AI/blob/main/bicycle_demand_monitoring.ipynb\" target=\"_parent\"><img src=\"https://colab.research.google.com/assets/colab-badge.svg\" alt=\"Open In Colab\"/></a>"
      ]
    },
    {
      "cell_type": "markdown",
      "source": [
        "# Data drift dashboard in jupyter notebook"
      ],
      "metadata": {
        "id": "pqMl9Ouxf6yn"
      }
    },
    {
      "cell_type": "code",
      "execution_count": null,
      "source": [
        "try:\n",
        "    import evidently\n",
        "except:\n",
        "    !pip install git+https://github.com/evidentlyai/evidently.git"
      ],
      "outputs": [
        {
          "output_type": "stream",
          "name": "stdout",
          "text": [
            "Collecting git+https://github.com/evidentlyai/evidently.git\n",
            "  Cloning https://github.com/evidentlyai/evidently.git to /tmp/pip-req-build-9l1edbr0\n",
            "  Running command git clone --filter=blob:none --quiet https://github.com/evidentlyai/evidently.git /tmp/pip-req-build-9l1edbr0\n",
            "  Resolved https://github.com/evidentlyai/evidently.git to commit 4470ecf273efb0308b74b0c1233a7ce23e652d23\n",
            "  Preparing metadata (setup.py) ... \u001b[?25l\u001b[?25hdone\n",
            "Requirement already satisfied: plotly>=5.5.0 in /usr/local/lib/python3.10/dist-packages (from evidently==0.4.1) (5.15.0)\n",
            "Requirement already satisfied: statsmodels>=0.12.2 in /usr/local/lib/python3.10/dist-packages (from evidently==0.4.1) (0.14.0)\n",
            "Requirement already satisfied: scikit-learn>=0.24.0 in /usr/local/lib/python3.10/dist-packages (from evidently==0.4.1) (1.2.2)\n",
            "Requirement already satisfied: pandas>=1.3.5 in /usr/local/lib/python3.10/dist-packages (from evidently==0.4.1) (1.5.3)\n",
            "Requirement already satisfied: numpy>=1.19.5 in /usr/local/lib/python3.10/dist-packages (from evidently==0.4.1) (1.23.5)\n",
            "Requirement already satisfied: nltk>=3.6.7 in /usr/local/lib/python3.10/dist-packages (from evidently==0.4.1) (3.8.1)\n",
            "Requirement already satisfied: scipy>=1.5.4 in /usr/local/lib/python3.10/dist-packages (from evidently==0.4.1) (1.10.1)\n",
            "Requirement already satisfied: requests>=2.19.0 in /usr/local/lib/python3.10/dist-packages (from evidently==0.4.1) (2.31.0)\n",
            "Requirement already satisfied: PyYAML>=5.1 in /usr/local/lib/python3.10/dist-packages (from evidently==0.4.1) (6.0.1)\n",
            "Collecting pydantic<2,>=1.10 (from evidently==0.4.1)\n",
            "  Downloading pydantic-1.10.12-cp310-cp310-manylinux_2_17_x86_64.manylinux2014_x86_64.whl (3.1 MB)\n",
            "\u001b[2K     \u001b[90m━━━━━━━━━━━━━━━━━━━━━━━━━━━━━━━━━━━━━━━━\u001b[0m \u001b[32m3.1/3.1 MB\u001b[0m \u001b[31m23.8 MB/s\u001b[0m eta \u001b[36m0:00:00\u001b[0m\n",
            "\u001b[?25hCollecting fastapi>=0.98.0 (from evidently==0.4.1)\n",
            "  Downloading fastapi-0.101.1-py3-none-any.whl (65 kB)\n",
            "\u001b[2K     \u001b[90m━━━━━━━━━━━━━━━━━━━━━━━━━━━━━━━━━━━━━━━━\u001b[0m \u001b[32m65.8/65.8 kB\u001b[0m \u001b[31m8.1 MB/s\u001b[0m eta \u001b[36m0:00:00\u001b[0m\n",
            "\u001b[?25hCollecting uvicorn>=0.22.0 (from evidently==0.4.1)\n",
            "  Downloading uvicorn-0.23.2-py3-none-any.whl (59 kB)\n",
            "\u001b[2K     \u001b[90m━━━━━━━━━━━━━━━━━━━━━━━━━━━━━━━━━━━━━━━━\u001b[0m \u001b[32m59.5/59.5 kB\u001b[0m \u001b[31m7.4 MB/s\u001b[0m eta \u001b[36m0:00:00\u001b[0m\n",
            "\u001b[?25hCollecting watchdog>=3 (from evidently==0.4.1)\n",
            "  Downloading watchdog-3.0.0-py3-none-manylinux2014_x86_64.whl (82 kB)\n",
            "\u001b[2K     \u001b[90m━━━━━━━━━━━━━━━━━━━━━━━━━━━━━━━━━━━━━━━━\u001b[0m \u001b[32m82.1/82.1 kB\u001b[0m \u001b[31m10.2 MB/s\u001b[0m eta \u001b[36m0:00:00\u001b[0m\n",
            "\u001b[?25hRequirement already satisfied: typer>=0.9 in /usr/local/lib/python3.10/dist-packages (from evidently==0.4.1) (0.9.0)\n",
            "Requirement already satisfied: rich>=13 in /usr/local/lib/python3.10/dist-packages (from evidently==0.4.1) (13.5.2)\n",
            "Collecting iterative-telemetry>=0.0.5 (from evidently==0.4.1)\n",
            "  Downloading iterative_telemetry-0.0.8-py3-none-any.whl (10 kB)\n",
            "Collecting starlette<0.28.0,>=0.27.0 (from fastapi>=0.98.0->evidently==0.4.1)\n",
            "  Downloading starlette-0.27.0-py3-none-any.whl (66 kB)\n",
            "\u001b[2K     \u001b[90m━━━━━━━━━━━━━━━━━━━━━━━━━━━━━━━━━━━━━━━━\u001b[0m \u001b[32m67.0/67.0 kB\u001b[0m \u001b[31m5.2 MB/s\u001b[0m eta \u001b[36m0:00:00\u001b[0m\n",
            "\u001b[?25hRequirement already satisfied: typing-extensions>=4.5.0 in /usr/local/lib/python3.10/dist-packages (from fastapi>=0.98.0->evidently==0.4.1) (4.7.1)\n",
            "Requirement already satisfied: appdirs in /usr/local/lib/python3.10/dist-packages (from iterative-telemetry>=0.0.5->evidently==0.4.1) (1.4.4)\n",
            "Requirement already satisfied: filelock in /usr/local/lib/python3.10/dist-packages (from iterative-telemetry>=0.0.5->evidently==0.4.1) (3.12.2)\n",
            "Requirement already satisfied: distro in /usr/lib/python3/dist-packages (from iterative-telemetry>=0.0.5->evidently==0.4.1) (1.7.0)\n",
            "Requirement already satisfied: click in /usr/local/lib/python3.10/dist-packages (from nltk>=3.6.7->evidently==0.4.1) (8.1.6)\n",
            "Requirement already satisfied: joblib in /usr/local/lib/python3.10/dist-packages (from nltk>=3.6.7->evidently==0.4.1) (1.3.2)\n",
            "Requirement already satisfied: regex>=2021.8.3 in /usr/local/lib/python3.10/dist-packages (from nltk>=3.6.7->evidently==0.4.1) (2023.6.3)\n",
            "Requirement already satisfied: tqdm in /usr/local/lib/python3.10/dist-packages (from nltk>=3.6.7->evidently==0.4.1) (4.66.1)\n",
            "Requirement already satisfied: python-dateutil>=2.8.1 in /usr/local/lib/python3.10/dist-packages (from pandas>=1.3.5->evidently==0.4.1) (2.8.2)\n",
            "Requirement already satisfied: pytz>=2020.1 in /usr/local/lib/python3.10/dist-packages (from pandas>=1.3.5->evidently==0.4.1) (2023.3)\n",
            "Requirement already satisfied: tenacity>=6.2.0 in /usr/local/lib/python3.10/dist-packages (from plotly>=5.5.0->evidently==0.4.1) (8.2.3)\n",
            "Requirement already satisfied: packaging in /usr/local/lib/python3.10/dist-packages (from plotly>=5.5.0->evidently==0.4.1) (23.1)\n",
            "Requirement already satisfied: charset-normalizer<4,>=2 in /usr/local/lib/python3.10/dist-packages (from requests>=2.19.0->evidently==0.4.1) (3.2.0)\n",
            "Requirement already satisfied: idna<4,>=2.5 in /usr/local/lib/python3.10/dist-packages (from requests>=2.19.0->evidently==0.4.1) (3.4)\n",
            "Requirement already satisfied: urllib3<3,>=1.21.1 in /usr/local/lib/python3.10/dist-packages (from requests>=2.19.0->evidently==0.4.1) (2.0.4)\n",
            "Requirement already satisfied: certifi>=2017.4.17 in /usr/local/lib/python3.10/dist-packages (from requests>=2.19.0->evidently==0.4.1) (2023.7.22)\n",
            "Requirement already satisfied: markdown-it-py>=2.2.0 in /usr/local/lib/python3.10/dist-packages (from rich>=13->evidently==0.4.1) (3.0.0)\n",
            "Requirement already satisfied: pygments<3.0.0,>=2.13.0 in /usr/local/lib/python3.10/dist-packages (from rich>=13->evidently==0.4.1) (2.16.1)\n",
            "Requirement already satisfied: threadpoolctl>=2.0.0 in /usr/local/lib/python3.10/dist-packages (from scikit-learn>=0.24.0->evidently==0.4.1) (3.2.0)\n",
            "Requirement already satisfied: patsy>=0.5.2 in /usr/local/lib/python3.10/dist-packages (from statsmodels>=0.12.2->evidently==0.4.1) (0.5.3)\n",
            "Collecting h11>=0.8 (from uvicorn>=0.22.0->evidently==0.4.1)\n",
            "  Downloading h11-0.14.0-py3-none-any.whl (58 kB)\n",
            "\u001b[2K     \u001b[90m━━━━━━━━━━━━━━━━━━━━━━━━━━━━━━━━━━━━━━━━\u001b[0m \u001b[32m58.3/58.3 kB\u001b[0m \u001b[31m7.6 MB/s\u001b[0m eta \u001b[36m0:00:00\u001b[0m\n",
            "\u001b[?25hRequirement already satisfied: mdurl~=0.1 in /usr/local/lib/python3.10/dist-packages (from markdown-it-py>=2.2.0->rich>=13->evidently==0.4.1) (0.1.2)\n",
            "Requirement already satisfied: six in /usr/local/lib/python3.10/dist-packages (from patsy>=0.5.2->statsmodels>=0.12.2->evidently==0.4.1) (1.16.0)\n",
            "Requirement already satisfied: anyio<5,>=3.4.0 in /usr/local/lib/python3.10/dist-packages (from starlette<0.28.0,>=0.27.0->fastapi>=0.98.0->evidently==0.4.1) (3.7.1)\n",
            "Requirement already satisfied: sniffio>=1.1 in /usr/local/lib/python3.10/dist-packages (from anyio<5,>=3.4.0->starlette<0.28.0,>=0.27.0->fastapi>=0.98.0->evidently==0.4.1) (1.3.0)\n",
            "Requirement already satisfied: exceptiongroup in /usr/local/lib/python3.10/dist-packages (from anyio<5,>=3.4.0->starlette<0.28.0,>=0.27.0->fastapi>=0.98.0->evidently==0.4.1) (1.1.3)\n",
            "Building wheels for collected packages: evidently\n",
            "  Building wheel for evidently (setup.py) ... \u001b[?25l\u001b[?25hdone\n",
            "  Created wheel for evidently: filename=evidently-0.4.1-py3-none-any.whl size=5329819 sha256=dcdb0583d474e7a4cfb782dfdbc4f5552d905a59995c877f3a5a7b17d40b701b\n",
            "  Stored in directory: /tmp/pip-ephem-wheel-cache-5wpvgg4t/wheels/b9/63/7b/170638c7d0b5772f1e76c1d9adefc91eee2697a23b337135e0\n",
            "Successfully built evidently\n",
            "Installing collected packages: watchdog, pydantic, h11, uvicorn, starlette, iterative-telemetry, fastapi, evidently\n",
            "  Attempting uninstall: pydantic\n",
            "    Found existing installation: pydantic 2.1.1\n",
            "    Uninstalling pydantic-2.1.1:\n",
            "      Successfully uninstalled pydantic-2.1.1\n",
            "Successfully installed evidently-0.4.1 fastapi-0.101.1 h11-0.14.0 iterative-telemetry-0.0.8 pydantic-1.10.12 starlette-0.27.0 uvicorn-0.23.2 watchdog-3.0.0\n"
          ]
        }
      ],
      "metadata": {
        "colab": {
          "base_uri": "https://localhost:8080/"
        },
        "id": "usmMBVeaw72Q",
        "outputId": "00d7580e-7c16-4d2b-fa67-1a23d9a74352"
      }
    },
    {
      "cell_type": "code",
      "execution_count": null,
      "source": [
        "import pandas as pd\n",
        "import numpy as np\n",
        "import requests\n",
        "import zipfile\n",
        "import io\n",
        "\n",
        "from datetime import datetime, time\n",
        "from sklearn import datasets, ensemble\n",
        "\n",
        "from evidently import ColumnMapping\n",
        "from evidently.report import Report\n",
        "from evidently.metric_preset import DataDriftPreset, TargetDriftPreset, RegressionPreset"
      ],
      "outputs": [],
      "metadata": {
        "id": "8FP6JHGUf6ys"
      }
    },
    {
      "cell_type": "markdown",
      "source": [
        "## Bicycle Demand Data"
      ],
      "metadata": {
        "id": "x3OWHRQ0f6yv"
      }
    },
    {
      "cell_type": "markdown",
      "source": [
        "This step automatically downloads the bike dataset from UCI. This version is slightly different from the dataset used in Kaggle competition. If you want the example to be identical to the one in the Evidently blog \"How to break a model in 20 days\", you can manually download the dataset from Kaggle: https://www.kaggle.com/c/bike-sharing-demand/data"
      ],
      "metadata": {
        "id": "Yx-GhFajUgNA"
      }
    },
    {
      "cell_type": "code",
      "execution_count": null,
      "source": [
        "content = requests.get(\"https://archive.ics.uci.edu/static/public/275/bike+sharing+dataset.zip\").content\n",
        "with zipfile.ZipFile(io.BytesIO(content)) as arc:\n",
        "    raw_data = pd.read_csv(arc.open(\"hour.csv\"), header=0, sep=',', parse_dates=['dteday'], index_col='dteday')"
      ],
      "outputs": [],
      "metadata": {
        "id": "uMLMel0Cf6yw"
      }
    },
    {
      "cell_type": "code",
      "execution_count": null,
      "source": [
        "raw_data.index = raw_data.apply(\n",
        "    lambda row: datetime.combine(row.name, time(hour=int(row['hr']))), axis = 1)"
      ],
      "outputs": [],
      "metadata": {
        "id": "pNwLFltuf6yx"
      }
    },
    {
      "cell_type": "code",
      "execution_count": null,
      "source": [
        "raw_data.head()"
      ],
      "outputs": [
        {
          "output_type": "execute_result",
          "data": {
            "text/plain": [
              "                     instant  season  yr  mnth  hr  holiday  weekday  \\\n",
              "2011-01-01 00:00:00        1       1   0     1   0        0        6   \n",
              "2011-01-01 01:00:00        2       1   0     1   1        0        6   \n",
              "2011-01-01 02:00:00        3       1   0     1   2        0        6   \n",
              "2011-01-01 03:00:00        4       1   0     1   3        0        6   \n",
              "2011-01-01 04:00:00        5       1   0     1   4        0        6   \n",
              "\n",
              "                     workingday  weathersit  temp   atemp   hum  windspeed  \\\n",
              "2011-01-01 00:00:00           0           1  0.24  0.2879  0.81        0.0   \n",
              "2011-01-01 01:00:00           0           1  0.22  0.2727  0.80        0.0   \n",
              "2011-01-01 02:00:00           0           1  0.22  0.2727  0.80        0.0   \n",
              "2011-01-01 03:00:00           0           1  0.24  0.2879  0.75        0.0   \n",
              "2011-01-01 04:00:00           0           1  0.24  0.2879  0.75        0.0   \n",
              "\n",
              "                     casual  registered  cnt  \n",
              "2011-01-01 00:00:00       3          13   16  \n",
              "2011-01-01 01:00:00       8          32   40  \n",
              "2011-01-01 02:00:00       5          27   32  \n",
              "2011-01-01 03:00:00       3          10   13  \n",
              "2011-01-01 04:00:00       0           1    1  "
            ],
            "text/html": [
              "\n",
              "  <div id=\"df-5fecb589-5c3b-43a4-8b71-43eb890e9e98\" class=\"colab-df-container\">\n",
              "    <div>\n",
              "<style scoped>\n",
              "    .dataframe tbody tr th:only-of-type {\n",
              "        vertical-align: middle;\n",
              "    }\n",
              "\n",
              "    .dataframe tbody tr th {\n",
              "        vertical-align: top;\n",
              "    }\n",
              "\n",
              "    .dataframe thead th {\n",
              "        text-align: right;\n",
              "    }\n",
              "</style>\n",
              "<table border=\"1\" class=\"dataframe\">\n",
              "  <thead>\n",
              "    <tr style=\"text-align: right;\">\n",
              "      <th></th>\n",
              "      <th>instant</th>\n",
              "      <th>season</th>\n",
              "      <th>yr</th>\n",
              "      <th>mnth</th>\n",
              "      <th>hr</th>\n",
              "      <th>holiday</th>\n",
              "      <th>weekday</th>\n",
              "      <th>workingday</th>\n",
              "      <th>weathersit</th>\n",
              "      <th>temp</th>\n",
              "      <th>atemp</th>\n",
              "      <th>hum</th>\n",
              "      <th>windspeed</th>\n",
              "      <th>casual</th>\n",
              "      <th>registered</th>\n",
              "      <th>cnt</th>\n",
              "    </tr>\n",
              "  </thead>\n",
              "  <tbody>\n",
              "    <tr>\n",
              "      <th>2011-01-01 00:00:00</th>\n",
              "      <td>1</td>\n",
              "      <td>1</td>\n",
              "      <td>0</td>\n",
              "      <td>1</td>\n",
              "      <td>0</td>\n",
              "      <td>0</td>\n",
              "      <td>6</td>\n",
              "      <td>0</td>\n",
              "      <td>1</td>\n",
              "      <td>0.24</td>\n",
              "      <td>0.2879</td>\n",
              "      <td>0.81</td>\n",
              "      <td>0.0</td>\n",
              "      <td>3</td>\n",
              "      <td>13</td>\n",
              "      <td>16</td>\n",
              "    </tr>\n",
              "    <tr>\n",
              "      <th>2011-01-01 01:00:00</th>\n",
              "      <td>2</td>\n",
              "      <td>1</td>\n",
              "      <td>0</td>\n",
              "      <td>1</td>\n",
              "      <td>1</td>\n",
              "      <td>0</td>\n",
              "      <td>6</td>\n",
              "      <td>0</td>\n",
              "      <td>1</td>\n",
              "      <td>0.22</td>\n",
              "      <td>0.2727</td>\n",
              "      <td>0.80</td>\n",
              "      <td>0.0</td>\n",
              "      <td>8</td>\n",
              "      <td>32</td>\n",
              "      <td>40</td>\n",
              "    </tr>\n",
              "    <tr>\n",
              "      <th>2011-01-01 02:00:00</th>\n",
              "      <td>3</td>\n",
              "      <td>1</td>\n",
              "      <td>0</td>\n",
              "      <td>1</td>\n",
              "      <td>2</td>\n",
              "      <td>0</td>\n",
              "      <td>6</td>\n",
              "      <td>0</td>\n",
              "      <td>1</td>\n",
              "      <td>0.22</td>\n",
              "      <td>0.2727</td>\n",
              "      <td>0.80</td>\n",
              "      <td>0.0</td>\n",
              "      <td>5</td>\n",
              "      <td>27</td>\n",
              "      <td>32</td>\n",
              "    </tr>\n",
              "    <tr>\n",
              "      <th>2011-01-01 03:00:00</th>\n",
              "      <td>4</td>\n",
              "      <td>1</td>\n",
              "      <td>0</td>\n",
              "      <td>1</td>\n",
              "      <td>3</td>\n",
              "      <td>0</td>\n",
              "      <td>6</td>\n",
              "      <td>0</td>\n",
              "      <td>1</td>\n",
              "      <td>0.24</td>\n",
              "      <td>0.2879</td>\n",
              "      <td>0.75</td>\n",
              "      <td>0.0</td>\n",
              "      <td>3</td>\n",
              "      <td>10</td>\n",
              "      <td>13</td>\n",
              "    </tr>\n",
              "    <tr>\n",
              "      <th>2011-01-01 04:00:00</th>\n",
              "      <td>5</td>\n",
              "      <td>1</td>\n",
              "      <td>0</td>\n",
              "      <td>1</td>\n",
              "      <td>4</td>\n",
              "      <td>0</td>\n",
              "      <td>6</td>\n",
              "      <td>0</td>\n",
              "      <td>1</td>\n",
              "      <td>0.24</td>\n",
              "      <td>0.2879</td>\n",
              "      <td>0.75</td>\n",
              "      <td>0.0</td>\n",
              "      <td>0</td>\n",
              "      <td>1</td>\n",
              "      <td>1</td>\n",
              "    </tr>\n",
              "  </tbody>\n",
              "</table>\n",
              "</div>\n",
              "    <div class=\"colab-df-buttons\">\n",
              "\n",
              "  <div class=\"colab-df-container\">\n",
              "    <button class=\"colab-df-convert\" onclick=\"convertToInteractive('df-5fecb589-5c3b-43a4-8b71-43eb890e9e98')\"\n",
              "            title=\"Convert this dataframe to an interactive table.\"\n",
              "            style=\"display:none;\">\n",
              "\n",
              "  <svg xmlns=\"http://www.w3.org/2000/svg\" height=\"24px\" viewBox=\"0 -960 960 960\">\n",
              "    <path d=\"M120-120v-720h720v720H120Zm60-500h600v-160H180v160Zm220 220h160v-160H400v160Zm0 220h160v-160H400v160ZM180-400h160v-160H180v160Zm440 0h160v-160H620v160ZM180-180h160v-160H180v160Zm440 0h160v-160H620v160Z\"/>\n",
              "  </svg>\n",
              "    </button>\n",
              "\n",
              "  <style>\n",
              "    .colab-df-container {\n",
              "      display:flex;\n",
              "      gap: 12px;\n",
              "    }\n",
              "\n",
              "    .colab-df-convert {\n",
              "      background-color: #E8F0FE;\n",
              "      border: none;\n",
              "      border-radius: 50%;\n",
              "      cursor: pointer;\n",
              "      display: none;\n",
              "      fill: #1967D2;\n",
              "      height: 32px;\n",
              "      padding: 0 0 0 0;\n",
              "      width: 32px;\n",
              "    }\n",
              "\n",
              "    .colab-df-convert:hover {\n",
              "      background-color: #E2EBFA;\n",
              "      box-shadow: 0px 1px 2px rgba(60, 64, 67, 0.3), 0px 1px 3px 1px rgba(60, 64, 67, 0.15);\n",
              "      fill: #174EA6;\n",
              "    }\n",
              "\n",
              "    .colab-df-buttons div {\n",
              "      margin-bottom: 4px;\n",
              "    }\n",
              "\n",
              "    [theme=dark] .colab-df-convert {\n",
              "      background-color: #3B4455;\n",
              "      fill: #D2E3FC;\n",
              "    }\n",
              "\n",
              "    [theme=dark] .colab-df-convert:hover {\n",
              "      background-color: #434B5C;\n",
              "      box-shadow: 0px 1px 3px 1px rgba(0, 0, 0, 0.15);\n",
              "      filter: drop-shadow(0px 1px 2px rgba(0, 0, 0, 0.3));\n",
              "      fill: #FFFFFF;\n",
              "    }\n",
              "  </style>\n",
              "\n",
              "    <script>\n",
              "      const buttonEl =\n",
              "        document.querySelector('#df-5fecb589-5c3b-43a4-8b71-43eb890e9e98 button.colab-df-convert');\n",
              "      buttonEl.style.display =\n",
              "        google.colab.kernel.accessAllowed ? 'block' : 'none';\n",
              "\n",
              "      async function convertToInteractive(key) {\n",
              "        const element = document.querySelector('#df-5fecb589-5c3b-43a4-8b71-43eb890e9e98');\n",
              "        const dataTable =\n",
              "          await google.colab.kernel.invokeFunction('convertToInteractive',\n",
              "                                                    [key], {});\n",
              "        if (!dataTable) return;\n",
              "\n",
              "        const docLinkHtml = 'Like what you see? Visit the ' +\n",
              "          '<a target=\"_blank\" href=https://colab.research.google.com/notebooks/data_table.ipynb>data table notebook</a>'\n",
              "          + ' to learn more about interactive tables.';\n",
              "        element.innerHTML = '';\n",
              "        dataTable['output_type'] = 'display_data';\n",
              "        await google.colab.output.renderOutput(dataTable, element);\n",
              "        const docLink = document.createElement('div');\n",
              "        docLink.innerHTML = docLinkHtml;\n",
              "        element.appendChild(docLink);\n",
              "      }\n",
              "    </script>\n",
              "  </div>\n",
              "\n",
              "\n",
              "<div id=\"df-d2b98616-704b-4061-9277-042cba8d2f7c\">\n",
              "  <button class=\"colab-df-quickchart\" onclick=\"quickchart('df-d2b98616-704b-4061-9277-042cba8d2f7c')\"\n",
              "            title=\"Suggest charts.\"\n",
              "            style=\"display:none;\">\n",
              "\n",
              "<svg xmlns=\"http://www.w3.org/2000/svg\" height=\"24px\"viewBox=\"0 0 24 24\"\n",
              "     width=\"24px\">\n",
              "    <g>\n",
              "        <path d=\"M19 3H5c-1.1 0-2 .9-2 2v14c0 1.1.9 2 2 2h14c1.1 0 2-.9 2-2V5c0-1.1-.9-2-2-2zM9 17H7v-7h2v7zm4 0h-2V7h2v10zm4 0h-2v-4h2v4z\"/>\n",
              "    </g>\n",
              "</svg>\n",
              "  </button>\n",
              "\n",
              "<style>\n",
              "  .colab-df-quickchart {\n",
              "    background-color: #E8F0FE;\n",
              "    border: none;\n",
              "    border-radius: 50%;\n",
              "    cursor: pointer;\n",
              "    display: none;\n",
              "    fill: #1967D2;\n",
              "    height: 32px;\n",
              "    padding: 0 0 0 0;\n",
              "    width: 32px;\n",
              "  }\n",
              "\n",
              "  .colab-df-quickchart:hover {\n",
              "    background-color: #E2EBFA;\n",
              "    box-shadow: 0px 1px 2px rgba(60, 64, 67, 0.3), 0px 1px 3px 1px rgba(60, 64, 67, 0.15);\n",
              "    fill: #174EA6;\n",
              "  }\n",
              "\n",
              "  [theme=dark] .colab-df-quickchart {\n",
              "    background-color: #3B4455;\n",
              "    fill: #D2E3FC;\n",
              "  }\n",
              "\n",
              "  [theme=dark] .colab-df-quickchart:hover {\n",
              "    background-color: #434B5C;\n",
              "    box-shadow: 0px 1px 3px 1px rgba(0, 0, 0, 0.15);\n",
              "    filter: drop-shadow(0px 1px 2px rgba(0, 0, 0, 0.3));\n",
              "    fill: #FFFFFF;\n",
              "  }\n",
              "</style>\n",
              "\n",
              "  <script>\n",
              "    async function quickchart(key) {\n",
              "      const charts = await google.colab.kernel.invokeFunction(\n",
              "          'suggestCharts', [key], {});\n",
              "    }\n",
              "    (() => {\n",
              "      let quickchartButtonEl =\n",
              "        document.querySelector('#df-d2b98616-704b-4061-9277-042cba8d2f7c button');\n",
              "      quickchartButtonEl.style.display =\n",
              "        google.colab.kernel.accessAllowed ? 'block' : 'none';\n",
              "    })();\n",
              "  </script>\n",
              "</div>\n",
              "    </div>\n",
              "  </div>\n"
            ]
          },
          "metadata": {},
          "execution_count": 5
        }
      ],
      "metadata": {
        "colab": {
          "base_uri": "https://localhost:8080/",
          "height": 399
        },
        "id": "c166KEpPw72R",
        "outputId": "15ed36ad-8e4e-4743-c775-fb01f9024bc7"
      }
    },
    {
      "cell_type": "markdown",
      "source": [
        "## Regression Model"
      ],
      "metadata": {
        "id": "4VypH7uAf6yz"
      }
    },
    {
      "cell_type": "markdown",
      "source": [
        "### Model training"
      ],
      "metadata": {
        "id": "9YMdccRpf6y3"
      }
    },
    {
      "cell_type": "code",
      "execution_count": null,
      "source": [
        "target = 'cnt'\n",
        "prediction = 'prediction'\n",
        "numerical_features = ['temp', 'atemp', 'hum', 'windspeed', 'hr', 'weekday']\n",
        "categorical_features = ['season', 'holiday', 'workingday']"
      ],
      "outputs": [],
      "metadata": {
        "id": "zbp6euUtf6y3"
      }
    },
    {
      "cell_type": "code",
      "execution_count": null,
      "source": [
        "reference = raw_data.loc['2011-01-01 00:00:00':'2011-01-28 23:00:00']\n",
        "current = raw_data.loc['2011-01-29 00:00:00':'2011-02-28 23:00:00']"
      ],
      "outputs": [],
      "metadata": {
        "id": "T8jbMDVwf6y4"
      }
    },
    {
      "cell_type": "code",
      "execution_count": null,
      "source": [
        "reference.head()"
      ],
      "outputs": [
        {
          "output_type": "execute_result",
          "data": {
            "text/plain": [
              "                     instant  season  yr  mnth  hr  holiday  weekday  \\\n",
              "2011-01-01 00:00:00        1       1   0     1   0        0        6   \n",
              "2011-01-01 01:00:00        2       1   0     1   1        0        6   \n",
              "2011-01-01 02:00:00        3       1   0     1   2        0        6   \n",
              "2011-01-01 03:00:00        4       1   0     1   3        0        6   \n",
              "2011-01-01 04:00:00        5       1   0     1   4        0        6   \n",
              "\n",
              "                     workingday  weathersit  temp   atemp   hum  windspeed  \\\n",
              "2011-01-01 00:00:00           0           1  0.24  0.2879  0.81        0.0   \n",
              "2011-01-01 01:00:00           0           1  0.22  0.2727  0.80        0.0   \n",
              "2011-01-01 02:00:00           0           1  0.22  0.2727  0.80        0.0   \n",
              "2011-01-01 03:00:00           0           1  0.24  0.2879  0.75        0.0   \n",
              "2011-01-01 04:00:00           0           1  0.24  0.2879  0.75        0.0   \n",
              "\n",
              "                     casual  registered  cnt  \n",
              "2011-01-01 00:00:00       3          13   16  \n",
              "2011-01-01 01:00:00       8          32   40  \n",
              "2011-01-01 02:00:00       5          27   32  \n",
              "2011-01-01 03:00:00       3          10   13  \n",
              "2011-01-01 04:00:00       0           1    1  "
            ],
            "text/html": [
              "\n",
              "  <div id=\"df-c974f878-d264-496b-851b-4863122b5441\" class=\"colab-df-container\">\n",
              "    <div>\n",
              "<style scoped>\n",
              "    .dataframe tbody tr th:only-of-type {\n",
              "        vertical-align: middle;\n",
              "    }\n",
              "\n",
              "    .dataframe tbody tr th {\n",
              "        vertical-align: top;\n",
              "    }\n",
              "\n",
              "    .dataframe thead th {\n",
              "        text-align: right;\n",
              "    }\n",
              "</style>\n",
              "<table border=\"1\" class=\"dataframe\">\n",
              "  <thead>\n",
              "    <tr style=\"text-align: right;\">\n",
              "      <th></th>\n",
              "      <th>instant</th>\n",
              "      <th>season</th>\n",
              "      <th>yr</th>\n",
              "      <th>mnth</th>\n",
              "      <th>hr</th>\n",
              "      <th>holiday</th>\n",
              "      <th>weekday</th>\n",
              "      <th>workingday</th>\n",
              "      <th>weathersit</th>\n",
              "      <th>temp</th>\n",
              "      <th>atemp</th>\n",
              "      <th>hum</th>\n",
              "      <th>windspeed</th>\n",
              "      <th>casual</th>\n",
              "      <th>registered</th>\n",
              "      <th>cnt</th>\n",
              "    </tr>\n",
              "  </thead>\n",
              "  <tbody>\n",
              "    <tr>\n",
              "      <th>2011-01-01 00:00:00</th>\n",
              "      <td>1</td>\n",
              "      <td>1</td>\n",
              "      <td>0</td>\n",
              "      <td>1</td>\n",
              "      <td>0</td>\n",
              "      <td>0</td>\n",
              "      <td>6</td>\n",
              "      <td>0</td>\n",
              "      <td>1</td>\n",
              "      <td>0.24</td>\n",
              "      <td>0.2879</td>\n",
              "      <td>0.81</td>\n",
              "      <td>0.0</td>\n",
              "      <td>3</td>\n",
              "      <td>13</td>\n",
              "      <td>16</td>\n",
              "    </tr>\n",
              "    <tr>\n",
              "      <th>2011-01-01 01:00:00</th>\n",
              "      <td>2</td>\n",
              "      <td>1</td>\n",
              "      <td>0</td>\n",
              "      <td>1</td>\n",
              "      <td>1</td>\n",
              "      <td>0</td>\n",
              "      <td>6</td>\n",
              "      <td>0</td>\n",
              "      <td>1</td>\n",
              "      <td>0.22</td>\n",
              "      <td>0.2727</td>\n",
              "      <td>0.80</td>\n",
              "      <td>0.0</td>\n",
              "      <td>8</td>\n",
              "      <td>32</td>\n",
              "      <td>40</td>\n",
              "    </tr>\n",
              "    <tr>\n",
              "      <th>2011-01-01 02:00:00</th>\n",
              "      <td>3</td>\n",
              "      <td>1</td>\n",
              "      <td>0</td>\n",
              "      <td>1</td>\n",
              "      <td>2</td>\n",
              "      <td>0</td>\n",
              "      <td>6</td>\n",
              "      <td>0</td>\n",
              "      <td>1</td>\n",
              "      <td>0.22</td>\n",
              "      <td>0.2727</td>\n",
              "      <td>0.80</td>\n",
              "      <td>0.0</td>\n",
              "      <td>5</td>\n",
              "      <td>27</td>\n",
              "      <td>32</td>\n",
              "    </tr>\n",
              "    <tr>\n",
              "      <th>2011-01-01 03:00:00</th>\n",
              "      <td>4</td>\n",
              "      <td>1</td>\n",
              "      <td>0</td>\n",
              "      <td>1</td>\n",
              "      <td>3</td>\n",
              "      <td>0</td>\n",
              "      <td>6</td>\n",
              "      <td>0</td>\n",
              "      <td>1</td>\n",
              "      <td>0.24</td>\n",
              "      <td>0.2879</td>\n",
              "      <td>0.75</td>\n",
              "      <td>0.0</td>\n",
              "      <td>3</td>\n",
              "      <td>10</td>\n",
              "      <td>13</td>\n",
              "    </tr>\n",
              "    <tr>\n",
              "      <th>2011-01-01 04:00:00</th>\n",
              "      <td>5</td>\n",
              "      <td>1</td>\n",
              "      <td>0</td>\n",
              "      <td>1</td>\n",
              "      <td>4</td>\n",
              "      <td>0</td>\n",
              "      <td>6</td>\n",
              "      <td>0</td>\n",
              "      <td>1</td>\n",
              "      <td>0.24</td>\n",
              "      <td>0.2879</td>\n",
              "      <td>0.75</td>\n",
              "      <td>0.0</td>\n",
              "      <td>0</td>\n",
              "      <td>1</td>\n",
              "      <td>1</td>\n",
              "    </tr>\n",
              "  </tbody>\n",
              "</table>\n",
              "</div>\n",
              "    <div class=\"colab-df-buttons\">\n",
              "\n",
              "  <div class=\"colab-df-container\">\n",
              "    <button class=\"colab-df-convert\" onclick=\"convertToInteractive('df-c974f878-d264-496b-851b-4863122b5441')\"\n",
              "            title=\"Convert this dataframe to an interactive table.\"\n",
              "            style=\"display:none;\">\n",
              "\n",
              "  <svg xmlns=\"http://www.w3.org/2000/svg\" height=\"24px\" viewBox=\"0 -960 960 960\">\n",
              "    <path d=\"M120-120v-720h720v720H120Zm60-500h600v-160H180v160Zm220 220h160v-160H400v160Zm0 220h160v-160H400v160ZM180-400h160v-160H180v160Zm440 0h160v-160H620v160ZM180-180h160v-160H180v160Zm440 0h160v-160H620v160Z\"/>\n",
              "  </svg>\n",
              "    </button>\n",
              "\n",
              "  <style>\n",
              "    .colab-df-container {\n",
              "      display:flex;\n",
              "      gap: 12px;\n",
              "    }\n",
              "\n",
              "    .colab-df-convert {\n",
              "      background-color: #E8F0FE;\n",
              "      border: none;\n",
              "      border-radius: 50%;\n",
              "      cursor: pointer;\n",
              "      display: none;\n",
              "      fill: #1967D2;\n",
              "      height: 32px;\n",
              "      padding: 0 0 0 0;\n",
              "      width: 32px;\n",
              "    }\n",
              "\n",
              "    .colab-df-convert:hover {\n",
              "      background-color: #E2EBFA;\n",
              "      box-shadow: 0px 1px 2px rgba(60, 64, 67, 0.3), 0px 1px 3px 1px rgba(60, 64, 67, 0.15);\n",
              "      fill: #174EA6;\n",
              "    }\n",
              "\n",
              "    .colab-df-buttons div {\n",
              "      margin-bottom: 4px;\n",
              "    }\n",
              "\n",
              "    [theme=dark] .colab-df-convert {\n",
              "      background-color: #3B4455;\n",
              "      fill: #D2E3FC;\n",
              "    }\n",
              "\n",
              "    [theme=dark] .colab-df-convert:hover {\n",
              "      background-color: #434B5C;\n",
              "      box-shadow: 0px 1px 3px 1px rgba(0, 0, 0, 0.15);\n",
              "      filter: drop-shadow(0px 1px 2px rgba(0, 0, 0, 0.3));\n",
              "      fill: #FFFFFF;\n",
              "    }\n",
              "  </style>\n",
              "\n",
              "    <script>\n",
              "      const buttonEl =\n",
              "        document.querySelector('#df-c974f878-d264-496b-851b-4863122b5441 button.colab-df-convert');\n",
              "      buttonEl.style.display =\n",
              "        google.colab.kernel.accessAllowed ? 'block' : 'none';\n",
              "\n",
              "      async function convertToInteractive(key) {\n",
              "        const element = document.querySelector('#df-c974f878-d264-496b-851b-4863122b5441');\n",
              "        const dataTable =\n",
              "          await google.colab.kernel.invokeFunction('convertToInteractive',\n",
              "                                                    [key], {});\n",
              "        if (!dataTable) return;\n",
              "\n",
              "        const docLinkHtml = 'Like what you see? Visit the ' +\n",
              "          '<a target=\"_blank\" href=https://colab.research.google.com/notebooks/data_table.ipynb>data table notebook</a>'\n",
              "          + ' to learn more about interactive tables.';\n",
              "        element.innerHTML = '';\n",
              "        dataTable['output_type'] = 'display_data';\n",
              "        await google.colab.output.renderOutput(dataTable, element);\n",
              "        const docLink = document.createElement('div');\n",
              "        docLink.innerHTML = docLinkHtml;\n",
              "        element.appendChild(docLink);\n",
              "      }\n",
              "    </script>\n",
              "  </div>\n",
              "\n",
              "\n",
              "<div id=\"df-4d94a5ac-c8d6-40ab-bf3e-6f84515bac8d\">\n",
              "  <button class=\"colab-df-quickchart\" onclick=\"quickchart('df-4d94a5ac-c8d6-40ab-bf3e-6f84515bac8d')\"\n",
              "            title=\"Suggest charts.\"\n",
              "            style=\"display:none;\">\n",
              "\n",
              "<svg xmlns=\"http://www.w3.org/2000/svg\" height=\"24px\"viewBox=\"0 0 24 24\"\n",
              "     width=\"24px\">\n",
              "    <g>\n",
              "        <path d=\"M19 3H5c-1.1 0-2 .9-2 2v14c0 1.1.9 2 2 2h14c1.1 0 2-.9 2-2V5c0-1.1-.9-2-2-2zM9 17H7v-7h2v7zm4 0h-2V7h2v10zm4 0h-2v-4h2v4z\"/>\n",
              "    </g>\n",
              "</svg>\n",
              "  </button>\n",
              "\n",
              "<style>\n",
              "  .colab-df-quickchart {\n",
              "    background-color: #E8F0FE;\n",
              "    border: none;\n",
              "    border-radius: 50%;\n",
              "    cursor: pointer;\n",
              "    display: none;\n",
              "    fill: #1967D2;\n",
              "    height: 32px;\n",
              "    padding: 0 0 0 0;\n",
              "    width: 32px;\n",
              "  }\n",
              "\n",
              "  .colab-df-quickchart:hover {\n",
              "    background-color: #E2EBFA;\n",
              "    box-shadow: 0px 1px 2px rgba(60, 64, 67, 0.3), 0px 1px 3px 1px rgba(60, 64, 67, 0.15);\n",
              "    fill: #174EA6;\n",
              "  }\n",
              "\n",
              "  [theme=dark] .colab-df-quickchart {\n",
              "    background-color: #3B4455;\n",
              "    fill: #D2E3FC;\n",
              "  }\n",
              "\n",
              "  [theme=dark] .colab-df-quickchart:hover {\n",
              "    background-color: #434B5C;\n",
              "    box-shadow: 0px 1px 3px 1px rgba(0, 0, 0, 0.15);\n",
              "    filter: drop-shadow(0px 1px 2px rgba(0, 0, 0, 0.3));\n",
              "    fill: #FFFFFF;\n",
              "  }\n",
              "</style>\n",
              "\n",
              "  <script>\n",
              "    async function quickchart(key) {\n",
              "      const charts = await google.colab.kernel.invokeFunction(\n",
              "          'suggestCharts', [key], {});\n",
              "    }\n",
              "    (() => {\n",
              "      let quickchartButtonEl =\n",
              "        document.querySelector('#df-4d94a5ac-c8d6-40ab-bf3e-6f84515bac8d button');\n",
              "      quickchartButtonEl.style.display =\n",
              "        google.colab.kernel.accessAllowed ? 'block' : 'none';\n",
              "    })();\n",
              "  </script>\n",
              "</div>\n",
              "    </div>\n",
              "  </div>\n"
            ]
          },
          "metadata": {},
          "execution_count": 8
        }
      ],
      "metadata": {
        "id": "SQLQTJy7f6y4",
        "scrolled": true,
        "colab": {
          "base_uri": "https://localhost:8080/",
          "height": 399
        },
        "outputId": "90094469-4ff1-428c-ad58-301c6c73c056"
      }
    },
    {
      "cell_type": "code",
      "execution_count": null,
      "source": [
        "regressor = ensemble.RandomForestRegressor(random_state = 0, n_estimators = 50)"
      ],
      "outputs": [],
      "metadata": {
        "id": "im2Bqd3zf6y5"
      }
    },
    {
      "cell_type": "code",
      "execution_count": null,
      "source": [
        "regressor.fit(reference[numerical_features + categorical_features], reference[target])"
      ],
      "outputs": [
        {
          "output_type": "execute_result",
          "data": {
            "text/plain": [
              "RandomForestRegressor(n_estimators=50, random_state=0)"
            ],
            "text/html": [
              "<style>#sk-container-id-1 {color: black;background-color: white;}#sk-container-id-1 pre{padding: 0;}#sk-container-id-1 div.sk-toggleable {background-color: white;}#sk-container-id-1 label.sk-toggleable__label {cursor: pointer;display: block;width: 100%;margin-bottom: 0;padding: 0.3em;box-sizing: border-box;text-align: center;}#sk-container-id-1 label.sk-toggleable__label-arrow:before {content: \"▸\";float: left;margin-right: 0.25em;color: #696969;}#sk-container-id-1 label.sk-toggleable__label-arrow:hover:before {color: black;}#sk-container-id-1 div.sk-estimator:hover label.sk-toggleable__label-arrow:before {color: black;}#sk-container-id-1 div.sk-toggleable__content {max-height: 0;max-width: 0;overflow: hidden;text-align: left;background-color: #f0f8ff;}#sk-container-id-1 div.sk-toggleable__content pre {margin: 0.2em;color: black;border-radius: 0.25em;background-color: #f0f8ff;}#sk-container-id-1 input.sk-toggleable__control:checked~div.sk-toggleable__content {max-height: 200px;max-width: 100%;overflow: auto;}#sk-container-id-1 input.sk-toggleable__control:checked~label.sk-toggleable__label-arrow:before {content: \"▾\";}#sk-container-id-1 div.sk-estimator input.sk-toggleable__control:checked~label.sk-toggleable__label {background-color: #d4ebff;}#sk-container-id-1 div.sk-label input.sk-toggleable__control:checked~label.sk-toggleable__label {background-color: #d4ebff;}#sk-container-id-1 input.sk-hidden--visually {border: 0;clip: rect(1px 1px 1px 1px);clip: rect(1px, 1px, 1px, 1px);height: 1px;margin: -1px;overflow: hidden;padding: 0;position: absolute;width: 1px;}#sk-container-id-1 div.sk-estimator {font-family: monospace;background-color: #f0f8ff;border: 1px dotted black;border-radius: 0.25em;box-sizing: border-box;margin-bottom: 0.5em;}#sk-container-id-1 div.sk-estimator:hover {background-color: #d4ebff;}#sk-container-id-1 div.sk-parallel-item::after {content: \"\";width: 100%;border-bottom: 1px solid gray;flex-grow: 1;}#sk-container-id-1 div.sk-label:hover label.sk-toggleable__label {background-color: #d4ebff;}#sk-container-id-1 div.sk-serial::before {content: \"\";position: absolute;border-left: 1px solid gray;box-sizing: border-box;top: 0;bottom: 0;left: 50%;z-index: 0;}#sk-container-id-1 div.sk-serial {display: flex;flex-direction: column;align-items: center;background-color: white;padding-right: 0.2em;padding-left: 0.2em;position: relative;}#sk-container-id-1 div.sk-item {position: relative;z-index: 1;}#sk-container-id-1 div.sk-parallel {display: flex;align-items: stretch;justify-content: center;background-color: white;position: relative;}#sk-container-id-1 div.sk-item::before, #sk-container-id-1 div.sk-parallel-item::before {content: \"\";position: absolute;border-left: 1px solid gray;box-sizing: border-box;top: 0;bottom: 0;left: 50%;z-index: -1;}#sk-container-id-1 div.sk-parallel-item {display: flex;flex-direction: column;z-index: 1;position: relative;background-color: white;}#sk-container-id-1 div.sk-parallel-item:first-child::after {align-self: flex-end;width: 50%;}#sk-container-id-1 div.sk-parallel-item:last-child::after {align-self: flex-start;width: 50%;}#sk-container-id-1 div.sk-parallel-item:only-child::after {width: 0;}#sk-container-id-1 div.sk-dashed-wrapped {border: 1px dashed gray;margin: 0 0.4em 0.5em 0.4em;box-sizing: border-box;padding-bottom: 0.4em;background-color: white;}#sk-container-id-1 div.sk-label label {font-family: monospace;font-weight: bold;display: inline-block;line-height: 1.2em;}#sk-container-id-1 div.sk-label-container {text-align: center;}#sk-container-id-1 div.sk-container {/* jupyter's `normalize.less` sets `[hidden] { display: none; }` but bootstrap.min.css set `[hidden] { display: none !important; }` so we also need the `!important` here to be able to override the default hidden behavior on the sphinx rendered scikit-learn.org. See: https://github.com/scikit-learn/scikit-learn/issues/21755 */display: inline-block !important;position: relative;}#sk-container-id-1 div.sk-text-repr-fallback {display: none;}</style><div id=\"sk-container-id-1\" class=\"sk-top-container\"><div class=\"sk-text-repr-fallback\"><pre>RandomForestRegressor(n_estimators=50, random_state=0)</pre><b>In a Jupyter environment, please rerun this cell to show the HTML representation or trust the notebook. <br />On GitHub, the HTML representation is unable to render, please try loading this page with nbviewer.org.</b></div><div class=\"sk-container\" hidden><div class=\"sk-item\"><div class=\"sk-estimator sk-toggleable\"><input class=\"sk-toggleable__control sk-hidden--visually\" id=\"sk-estimator-id-1\" type=\"checkbox\" checked><label for=\"sk-estimator-id-1\" class=\"sk-toggleable__label sk-toggleable__label-arrow\">RandomForestRegressor</label><div class=\"sk-toggleable__content\"><pre>RandomForestRegressor(n_estimators=50, random_state=0)</pre></div></div></div></div></div>"
            ]
          },
          "metadata": {},
          "execution_count": 10
        }
      ],
      "metadata": {
        "id": "bt_5Kfu-f6y5",
        "colab": {
          "base_uri": "https://localhost:8080/",
          "height": 74
        },
        "outputId": "5cde7bfc-f4b8-4928-8877-ce5b3976d754"
      }
    },
    {
      "cell_type": "code",
      "execution_count": null,
      "source": [
        "ref_prediction = regressor.predict(reference[numerical_features + categorical_features])\n",
        "current_prediction = regressor.predict(current[numerical_features + categorical_features])"
      ],
      "outputs": [],
      "metadata": {
        "id": "-7b4UNq2f6y6"
      }
    },
    {
      "cell_type": "code",
      "execution_count": null,
      "source": [
        "reference['prediction'] = ref_prediction\n",
        "current['prediction'] = current_prediction"
      ],
      "outputs": [],
      "metadata": {
        "id": "tt79FK5Mf6y6"
      }
    },
    {
      "cell_type": "markdown",
      "source": [
        "### Model Perfomance"
      ],
      "metadata": {
        "id": "4i2oy0k1f6y7"
      }
    },
    {
      "cell_type": "code",
      "execution_count": null,
      "source": [
        "column_mapping = ColumnMapping()\n",
        "\n",
        "column_mapping.target = target\n",
        "column_mapping.prediction = prediction\n",
        "column_mapping.numerical_features = numerical_features\n",
        "column_mapping.categorical_features = categorical_features"
      ],
      "outputs": [],
      "metadata": {
        "id": "Rg0JipUif6y7"
      }
    },
    {
      "cell_type": "code",
      "execution_count": null,
      "source": [
        "regression_perfomance = Report(metrics=[RegressionPreset()])\n",
        "regression_perfomance.run(current_data=reference, reference_data=None, column_mapping=column_mapping)"
      ],
      "outputs": [],
      "metadata": {
        "id": "fFGbeOJjf6y8"
      }
    },
    {
      "cell_type": "code",
      "execution_count": null,
      "source": [
        "regression_perfomance.show()"
      ],
      "outputs": [],
      "metadata": {
        "id": "KSon-d2pf6y8",
        "scrolled": true,
        "colab": {
          "base_uri": "https://localhost:8080/",
          "height": 1000
        },
        "outputId": "673c6eff-ae8d-40f9-b4ce-c2f6030e62f2"
      }
    },
    {
      "cell_type": "code",
      "execution_count": null,
      "source": [
        "#regression_perfomance.save('reports/regression_performance_at_training.html')"
      ],
      "outputs": [],
      "metadata": {
        "id": "uVckFZGmf6y8"
      }
    },
    {
      "cell_type": "markdown",
      "source": [
        "##  Week 1"
      ],
      "metadata": {
        "id": "62qRRKmhf6y9"
      }
    },
    {
      "cell_type": "code",
      "execution_count": null,
      "source": [
        "regression_perfomance = Report(metrics=[RegressionPreset()])\n",
        "regression_perfomance.run(current_data=current.loc['2011-01-29 00:00:00':'2011-02-07 23:00:00'],\n",
        "                          reference_data=reference,\n",
        "                          column_mapping=column_mapping)\n",
        "\n",
        "regression_perfomance.show()"
      ],
      "outputs": [],
      "metadata": {
        "id": "6G7KzxSxf6y9",
        "scrolled": true,
        "colab": {
          "base_uri": "https://localhost:8080/",
          "height": 1000
        },
        "outputId": "2240bbda-8e1c-4630-b4a7-0a34de63e9cc"
      }
    },
    {
      "cell_type": "code",
      "execution_count": null,
      "source": [
        "#regression_perfomance.save('reports/regression_performance_after_week1.html')"
      ],
      "outputs": [],
      "metadata": {
        "id": "z9C2uXsAf6y-",
        "scrolled": false
      }
    },
    {
      "cell_type": "code",
      "execution_count": null,
      "source": [
        "target_drift = Report(metrics=[TargetDriftPreset()])\n",
        "target_drift.run(current_data=current.loc['2011-01-29 00:00:00':'2011-02-07 23:00:00'],\n",
        "                 reference_data=reference,\n",
        "                 column_mapping=column_mapping)\n",
        "\n",
        "target_drift.show()"
      ],
      "outputs": [],
      "metadata": {
        "id": "afFgUlwvf6y-",
        "scrolled": true,
        "colab": {
          "base_uri": "https://localhost:8080/",
          "height": 1000
        },
        "outputId": "20cba0aa-1757-405a-a3ea-e726580e1236"
      }
    },
    {
      "cell_type": "code",
      "execution_count": null,
      "source": [
        "#target_drift.save('reports/target_drift_after_week1.html')"
      ],
      "outputs": [],
      "metadata": {
        "id": "5AyuTggif6y_"
      }
    },
    {
      "cell_type": "markdown",
      "source": [
        "## Week 2"
      ],
      "metadata": {
        "id": "xnrzxRRnf6y_"
      }
    },
    {
      "cell_type": "code",
      "execution_count": null,
      "source": [
        "regression_perfomance = Report(metrics=[RegressionPreset()])\n",
        "regression_perfomance.run(current_data=current.loc['2011-02-07 00:00:00':'2011-02-14 23:00:00'],\n",
        "                          reference_data=reference,\n",
        "                          column_mapping=column_mapping)\n",
        "\n",
        "regression_perfomance.show()"
      ],
      "outputs": [],
      "metadata": {
        "id": "gJgKaVAmf6zA",
        "scrolled": true
      }
    },
    {
      "cell_type": "code",
      "execution_count": null,
      "source": [
        "#regression_perfomance.save('reports/regression_performance_after_week2.html')"
      ],
      "outputs": [],
      "metadata": {
        "id": "46BC9kmHf6zA"
      }
    },
    {
      "cell_type": "code",
      "execution_count": null,
      "source": [
        "target_drift = Report(metrics=[TargetDriftPreset()])\n",
        "target_drift.run(current_data=current.loc['2011-02-07 00:00:00':'2011-02-14 23:00:00'],\n",
        "                 reference_data=reference,\n",
        "                 column_mapping=column_mapping)\n",
        "\n",
        "target_drift.show()"
      ],
      "outputs": [],
      "metadata": {
        "id": "ekzNzVCLf6zB",
        "scrolled": true
      }
    },
    {
      "cell_type": "code",
      "execution_count": null,
      "source": [
        "#target_drift.save('reports/target_drift_after_week2.html')"
      ],
      "outputs": [],
      "metadata": {
        "id": "MDgINUcff6zC"
      }
    },
    {
      "cell_type": "markdown",
      "source": [
        "## Week 3"
      ],
      "metadata": {
        "id": "BAXuFSrTf6zC"
      }
    },
    {
      "cell_type": "code",
      "execution_count": null,
      "source": [
        "regression_perfomance = Report(metrics=[RegressionPreset()])\n",
        "regression_perfomance.run(current_data=current.loc['2011-02-15 00:00:00':'2011-02-21 23:00:00'],\n",
        "                          reference_data=reference,\n",
        "                          column_mapping=column_mapping)\n",
        "\n",
        "regression_perfomance.show()"
      ],
      "outputs": [],
      "metadata": {
        "id": "SQh4cHS2f6zC",
        "colab": {
          "base_uri": "https://localhost:8080/",
          "height": 1000
        },
        "outputId": "f45403fc-e658-4860-c1b0-eb6e2d633d79"
      }
    },
    {
      "cell_type": "code",
      "execution_count": null,
      "source": [
        "#regression_perfomance.save('reports/regression_performance_after_week3.html')"
      ],
      "outputs": [],
      "metadata": {
        "id": "f4zo4najf6zD"
      }
    },
    {
      "cell_type": "code",
      "execution_count": null,
      "source": [
        "target_drift = Report(metrics=[TargetDriftPreset()])\n",
        "target_drift.run(current_data=current.loc['2011-02-15 00:00:00':'2011-02-21 23:00:00'],\n",
        "                 reference_data=reference,\n",
        "                 column_mapping=column_mapping)\n",
        "\n",
        "target_drift.show()"
      ],
      "outputs": [],
      "metadata": {
        "id": "SI-ojL1Ff6zD"
      }
    },
    {
      "cell_type": "code",
      "execution_count": null,
      "source": [
        "#target_drift.save('reports/target_drift_after_week3.html')"
      ],
      "outputs": [],
      "metadata": {
        "id": "J7LuOx-3f6zD"
      }
    },
    {
      "cell_type": "markdown",
      "source": [
        "## Data Drift"
      ],
      "metadata": {
        "id": "imlXej4of6zE"
      }
    },
    {
      "cell_type": "code",
      "execution_count": null,
      "source": [
        "column_mapping = ColumnMapping()\n",
        "\n",
        "column_mapping.numerical_features = numerical_features"
      ],
      "outputs": [],
      "metadata": {
        "id": "x-CrzsxSf6zE"
      }
    },
    {
      "cell_type": "code",
      "execution_count": null,
      "source": [
        "data_drift = Report(metrics = [DataDriftPreset()])\n",
        "data_drift.run(current_data = current.loc['2011-01-29 00:00:00':'2011-02-07 23:00:00'],\n",
        "               reference_data = reference,\n",
        "               column_mapping=column_mapping)\n",
        "\n",
        "data_drift.show()"
      ],
      "outputs": [],
      "metadata": {
        "id": "cKdcopYPf6zE"
      }
    },
    {
      "cell_type": "code",
      "execution_count": null,
      "source": [
        "#data_drift.save(\"reports/data_drift_dashboard_after_week1.html\")"
      ],
      "outputs": [],
      "metadata": {
        "id": "Xy7Y6S8Af6zF"
      }
    },
    {
      "cell_type": "markdown",
      "source": [
        "# Support Evidently\n",
        "Enjoyed the tutorial? Star Evidently on GitHub to contribute back! This helps us continue creating free open-source tools for the community. https://github.com/evidentlyai/evidently"
      ],
      "metadata": {
        "id": "MdIpRxJVw72f"
      }
    }
  ],
  "metadata": {
    "colab": {
      "collapsed_sections": [
        "xnrzxRRnf6y_",
        "BAXuFSrTf6zC"
      ],
      "provenance": [],
      "include_colab_link": true
    },
    "kernelspec": {
      "display_name": "Python 3 (ipykernel)",
      "language": "python",
      "name": "python3"
    },
    "language_info": {
      "codemirror_mode": {
        "name": "ipython",
        "version": 3
      },
      "file_extension": ".py",
      "mimetype": "text/x-python",
      "name": "python",
      "nbconvert_exporter": "python",
      "pygments_lexer": "ipython3",
      "version": "3.8.13"
    }
  },
  "nbformat": 4,
  "nbformat_minor": 0
}